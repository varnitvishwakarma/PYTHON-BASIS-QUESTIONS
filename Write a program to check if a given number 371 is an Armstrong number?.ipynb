def armstrong():
    number=int(input("Enter number: "))
    num_str=str(number)
    num_len=len(num_str)
    check=sum(int(digit)**num_len for digit in num_str)
    
    
    if check==number:
        print("yes, it is a armstrong number ")
        
    else :
        print("no, it is not a armstrong number!")
armstrong()
