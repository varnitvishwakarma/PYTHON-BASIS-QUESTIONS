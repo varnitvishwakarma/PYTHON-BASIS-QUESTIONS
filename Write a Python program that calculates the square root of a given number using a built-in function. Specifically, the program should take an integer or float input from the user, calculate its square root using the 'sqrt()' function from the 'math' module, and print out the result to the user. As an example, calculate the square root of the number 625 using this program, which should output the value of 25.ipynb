import math as md
num=float(input("ENTER THE NUMBER"))
result=md.sqrt(num)
print(result)
