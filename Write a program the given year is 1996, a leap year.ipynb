def is_leap_year():
    year=int(input("ENTER THE YEAR"))
    if year%4==0:
        print("yes this year is a leap year")
    else:
        print("no this year is not a leap year")
is_leap_year()
