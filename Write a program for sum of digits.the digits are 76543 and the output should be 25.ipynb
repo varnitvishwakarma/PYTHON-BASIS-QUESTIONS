num=[7,6,5,4,3]
sum_no=0

for i in num:
    sum_no+=i

    
print(sum_no)
    
