def reverse():
    number=[5,4,3,6]
    print(number[::-1])
reverse()
