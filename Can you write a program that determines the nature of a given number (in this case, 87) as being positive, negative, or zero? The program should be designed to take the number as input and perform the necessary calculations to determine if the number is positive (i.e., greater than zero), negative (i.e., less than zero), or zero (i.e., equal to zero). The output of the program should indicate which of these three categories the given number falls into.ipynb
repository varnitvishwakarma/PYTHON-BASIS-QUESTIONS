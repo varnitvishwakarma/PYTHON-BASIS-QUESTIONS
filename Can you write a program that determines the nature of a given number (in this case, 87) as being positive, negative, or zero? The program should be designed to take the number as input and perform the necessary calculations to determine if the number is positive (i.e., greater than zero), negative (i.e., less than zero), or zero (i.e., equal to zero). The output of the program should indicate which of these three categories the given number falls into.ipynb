number=int(input("ENTER YOUR NUMBER"))
if number==0:
    print("zero")
    
elif number<0:
    print("negative")
else:
    print("positive")
